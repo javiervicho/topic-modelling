{
 "cells": [
  {
   "cell_type": "markdown",
   "metadata": {},
   "source": [
    "# TOPIC MODELING\n",
    "\n",
    "Topic Modelling is the task of using unsupervised learning to extract the main topics (represented as a set of words) that occur in a collection of documents."
   ]
  },
  {
   "cell_type": "markdown",
   "metadata": {},
   "source": [
    "## Working Problem\n",
    "\n",
    "Today, I will be showing how to use regular LDA and guidedLDA for topic modeling and I tested the LDA algorithm on 20 Newsgroup data present in sklearn set which has thousands of news articles from many sections of a news report"
   ]
  },
  {
   "cell_type": "markdown",
   "metadata": {},
   "source": [
    "## Latent Dirichlet Allocation ##\n",
    "\n",
    "LDA is used to classify text in a document to a particular topic. It builds a topic per document model and words per topic model, modeled as Dirichlet distributions. \n",
    "\n",
    "* Each document is modeled as a multinomial distribution of topics and each topic is modeled as a multinomial distribution of words.\n",
    "* LDA assumes that the every chunk of text we feed into it will contain words that are somehow related. Therefore choosing the right corpus of data is crucial. \n",
    "* It also assumes documents are produced from a mixture of topics. Those topics then generate words based on their probability distribution. "
   ]
  },
  {
   "cell_type": "markdown",
   "metadata": {},
   "source": [
    "## Step 1: Load the dataset\n",
    "\n",
    "The dataset we'll use is the 20newsgroup dataset that is available from sklearn. This dataset has news articles grouped into 20 news categories"
   ]
  },
  {
   "cell_type": "code",
   "execution_count": 1,
   "metadata": {},
   "outputs": [],
   "source": [
    "from sklearn.datasets import fetch_20newsgroups\n",
    "newsgroups_train = fetch_20newsgroups(subset='train', shuffle = True)\n",
    "newsgroups_test = fetch_20newsgroups(subset='test', shuffle = True)"
   ]
  },
  {
   "cell_type": "code",
   "execution_count": 2,
   "metadata": {},
   "outputs": [
    {
     "name": "stdout",
     "output_type": "stream",
     "text": [
      "(11314,) (11314,)\n"
     ]
    }
   ],
   "source": [
    "print(newsgroups_train.filenames.shape, newsgroups_train.target.shape)"
   ]
  },
  {
   "cell_type": "code",
   "execution_count": 3,
   "metadata": {},
   "outputs": [
    {
     "name": "stdout",
     "output_type": "stream",
     "text": [
      "[\"From: lerxst@wam.umd.edu (where's my thing)\\nSubject: WHAT car is this!?\\nNntp-Posting-Host: rac3.wam.umd.edu\\nOrganization: University of Maryland, College Park\\nLines: 15\\n\\n I was wondering if anyone out there could enlighten me on this car I saw\\nthe other day. It was a 2-door sports car, looked to be from the late 60s/\\nearly 70s. It was called a Bricklin. The doors were really small. In addition,\\nthe front bumper was separate from the rest of the body. This is \\nall I know. If anyone can tellme a model name, engine specs, years\\nof production, where this car is made, history, or whatever info you\\nhave on this funky looking car, please e-mail.\\n\\nThanks,\\n- IL\\n   ---- brought to you by your neighborhood Lerxst ----\\n\\n\\n\\n\\n\"] [7]\n"
     ]
    }
   ],
   "source": [
    "# Lets look at some sample news and target groups\n",
    "print(newsgroups_train.data[:1],newsgroups_train.target[:1]) "
   ]
  },
  {
   "cell_type": "code",
   "execution_count": 4,
   "metadata": {},
   "outputs": [
    {
     "name": "stdout",
     "output_type": "stream",
     "text": [
      "['alt.atheism', 'comp.graphics', 'comp.os.ms-windows.misc', 'comp.sys.ibm.pc.hardware', 'comp.sys.mac.hardware', 'comp.windows.x', 'misc.forsale', 'rec.autos', 'rec.motorcycles', 'rec.sport.baseball', 'rec.sport.hockey', 'sci.crypt', 'sci.electronics', 'sci.med', 'sci.space', 'soc.religion.christian', 'talk.politics.guns', 'talk.politics.mideast', 'talk.politics.misc', 'talk.religion.misc']\n"
     ]
    }
   ],
   "source": [
    "print(list(newsgroups_train.target_names)), "
   ]
  },
  {
   "cell_type": "markdown",
   "metadata": {},
   "source": [
    "#### As you can see that there are some distinct themes in the news categories like \n",
    "\n",
    "* sports \n",
    "* religion\n",
    "* science \n",
    "* technology\n",
    "* politics etc."
   ]
  },
  {
   "cell_type": "markdown",
   "metadata": {},
   "source": [
    "## Step 2: Simple Preprocessing ##\n",
    "\n",
    "We will perform the following steps:\n",
    "\n",
    "* **Tokenization**: Split the text into sentences and the sentences into words. Lowercase the words and remove punctuation.\n",
    "* Words that have fewer than 3 characters are removed.\n",
    "* All **stopwords** are removed.\n",
    "* Words are **lemmatized** - words in third person are changed to first person and verbs in past and future tenses are changed into present.\n",
    "* Words are **stemmed** - words are reduced to their root form.\n"
   ]
  },
  {
   "cell_type": "code",
   "execution_count": 5,
   "metadata": {},
   "outputs": [],
   "source": [
    "'''\n",
    "Loading Gensim and nltk libraries\n",
    "'''\n",
    "# pip install gensim\n",
    "import gensim\n",
    "from gensim.utils import simple_preprocess\n",
    "from gensim.parsing.preprocessing import STOPWORDS\n",
    "from nltk.stem import WordNetLemmatizer, SnowballStemmer\n",
    "from nltk.stem.porter import *\n",
    "import numpy as np\n",
    "np.random.seed(400)"
   ]
  },
  {
   "cell_type": "code",
   "execution_count": 6,
   "metadata": {},
   "outputs": [
    {
     "name": "stderr",
     "output_type": "stream",
     "text": [
      "[nltk_data] Downloading package wordnet to /home/knolly/nltk_data...\n",
      "[nltk_data]   Package wordnet is already up-to-date!\n"
     ]
    },
    {
     "data": {
      "text/plain": [
       "True"
      ]
     },
     "execution_count": 6,
     "metadata": {},
     "output_type": "execute_result"
    }
   ],
   "source": [
    "import nltk\n",
    "nltk.download('wordnet')"
   ]
  },
  {
   "cell_type": "markdown",
   "metadata": {},
   "source": [
    "### Let's Lemmatize\n",
    "Before preprocessing our dataset, let's first look at an lemmatizing example. What would be the output if we lemmatized the word 'went':"
   ]
  },
  {
   "cell_type": "code",
   "execution_count": 7,
   "metadata": {},
   "outputs": [
    {
     "name": "stdout",
     "output_type": "stream",
     "text": [
      "go\n",
      "go\n",
      "go\n",
      "go\n",
      "go\n"
     ]
    }
   ],
   "source": [
    "print(WordNetLemmatizer().lemmatize('went', pos = 'v')) # past tense to present tense\n",
    "print(WordNetLemmatizer().lemmatize('going', pos = 'v')) # present tense to present tense\n",
    "print(WordNetLemmatizer().lemmatize('gone', pos = 'v')) # past tense to present tense\n",
    "print(WordNetLemmatizer().lemmatize('goes', pos = 'v')) # present tense to present tense\n",
    "print(WordNetLemmatizer().lemmatize('go', pos = 'v')) # present tense to present tense"
   ]
  },
  {
   "cell_type": "code",
   "execution_count": 8,
   "metadata": {},
   "outputs": [
    {
     "name": "stdout",
     "output_type": "stream",
     "text": [
      "play\n",
      "play\n",
      "play\n"
     ]
    }
   ],
   "source": [
    "print(WordNetLemmatizer().lemmatize('played', pos = 'v'))\n",
    "print(WordNetLemmatizer().lemmatize('playing', pos = 'v'))\n",
    "print(WordNetLemmatizer().lemmatize('play', pos = 'v'))"
   ]
  },
  {
   "cell_type": "markdown",
   "metadata": {},
   "source": [
    "### Stemming the Stemmer\n",
    "Let's also look at a stemming example. Let's throw a number of words at the stemmer and see how it deals with each one:"
   ]
  },
  {
   "cell_type": "code",
   "execution_count": 9,
   "metadata": {},
   "outputs": [
    {
     "data": {
      "text/html": [
       "<div>\n",
       "<style scoped>\n",
       "    .dataframe tbody tr th:only-of-type {\n",
       "        vertical-align: middle;\n",
       "    }\n",
       "\n",
       "    .dataframe tbody tr th {\n",
       "        vertical-align: top;\n",
       "    }\n",
       "\n",
       "    .dataframe thead th {\n",
       "        text-align: right;\n",
       "    }\n",
       "</style>\n",
       "<table border=\"1\" class=\"dataframe\">\n",
       "  <thead>\n",
       "    <tr style=\"text-align: right;\">\n",
       "      <th></th>\n",
       "      <th>original word</th>\n",
       "      <th>stemmed</th>\n",
       "    </tr>\n",
       "  </thead>\n",
       "  <tbody>\n",
       "    <tr>\n",
       "      <th>0</th>\n",
       "      <td>Today</td>\n",
       "      <td>today</td>\n",
       "    </tr>\n",
       "    <tr>\n",
       "      <th>1</th>\n",
       "      <td>I</td>\n",
       "      <td>i</td>\n",
       "    </tr>\n",
       "    <tr>\n",
       "      <th>2</th>\n",
       "      <td>will</td>\n",
       "      <td>will</td>\n",
       "    </tr>\n",
       "    <tr>\n",
       "      <th>3</th>\n",
       "      <td>be</td>\n",
       "      <td>be</td>\n",
       "    </tr>\n",
       "    <tr>\n",
       "      <th>4</th>\n",
       "      <td>giving</td>\n",
       "      <td>give</td>\n",
       "    </tr>\n",
       "    <tr>\n",
       "      <th>5</th>\n",
       "      <td>a</td>\n",
       "      <td>a</td>\n",
       "    </tr>\n",
       "    <tr>\n",
       "      <th>6</th>\n",
       "      <td>talk</td>\n",
       "      <td>talk</td>\n",
       "    </tr>\n",
       "    <tr>\n",
       "      <th>7</th>\n",
       "      <td>in</td>\n",
       "      <td>in</td>\n",
       "    </tr>\n",
       "    <tr>\n",
       "      <th>8</th>\n",
       "      <td>the</td>\n",
       "      <td>the</td>\n",
       "    </tr>\n",
       "    <tr>\n",
       "      <th>9</th>\n",
       "      <td>fifth</td>\n",
       "      <td>fifth</td>\n",
       "    </tr>\n",
       "    <tr>\n",
       "      <th>10</th>\n",
       "      <td>elephant</td>\n",
       "      <td>eleph</td>\n",
       "    </tr>\n",
       "    <tr>\n",
       "      <th>11</th>\n",
       "      <td>2019</td>\n",
       "      <td>2019</td>\n",
       "    </tr>\n",
       "    <tr>\n",
       "      <th>12</th>\n",
       "      <td>conference</td>\n",
       "      <td>confer</td>\n",
       "    </tr>\n",
       "  </tbody>\n",
       "</table>\n",
       "</div>"
      ],
      "text/plain": [
       "   original word stemmed\n",
       "0          Today   today\n",
       "1              I       i\n",
       "2           will    will\n",
       "3             be      be\n",
       "4         giving    give\n",
       "5              a       a\n",
       "6           talk    talk\n",
       "7             in      in\n",
       "8            the     the\n",
       "9          fifth   fifth\n",
       "10      elephant   eleph\n",
       "11          2019    2019\n",
       "12    conference  confer"
      ]
     },
     "execution_count": 9,
     "metadata": {},
     "output_type": "execute_result"
    }
   ],
   "source": [
    "import pandas as pd\n",
    "stemmer = SnowballStemmer(\"english\")\n",
    "original_words = [\"Today\", \"I\", \"will\", \"be\", \"giving\", \"a\", \"talk\", \"in\", \"the\", \"fifth\", \"elephant\", \"2019\", \"conference\"]\n",
    "singles = [stemmer.stem(plural) for plural in original_words]\n",
    "\n",
    "pd.DataFrame(data={'original word':original_words, 'stemmed':singles })"
   ]
  },
  {
   "cell_type": "code",
   "execution_count": 10,
   "metadata": {},
   "outputs": [],
   "source": [
    "'''\n",
    "Write a function to perform the pre processing steps on the entire dataset\n",
    "'''\n",
    "def stemming_and_lemmatizing(text):\n",
    "    return stemmer.stem(WordNetLemmatizer().lemmatize(text, pos='v'))\n",
    "\n",
    "# Tokenize and lemmatize\n",
    "def preprocessing(text):\n",
    "    result=[]\n",
    "    for token in gensim.utils.simple_preprocess(text) :\n",
    "        if token not in gensim.parsing.preprocessing.STOPWORDS and len(token) > 3:\n",
    "            result.append(stemming_and_lemmatizing(token))\n",
    "            \n",
    "    return result"
   ]
  },
  {
   "cell_type": "code",
   "execution_count": 11,
   "metadata": {},
   "outputs": [
    {
     "name": "stdout",
     "output_type": "stream",
     "text": [
      "Original document: \n",
      "['This', 'disk', 'has', 'failed', 'many', 'times.', 'I', 'would', 'like', 'to', 'get', 'it', 'replaced.']\n",
      "\n",
      "\n",
      "Tokenized and lemmatized document: \n",
      "['disk', 'fail', 'time', 'like', 'replac']\n"
     ]
    }
   ],
   "source": [
    "'''\n",
    "Preview a document after preprocessing\n",
    "'''\n",
    "document_num = 50\n",
    "doc_sample = 'This disk has failed many times. I would like to get it replaced.'\n",
    "\n",
    "print(\"Original document: \")\n",
    "words = []\n",
    "for word in doc_sample.split(' '):\n",
    "    words.append(word)\n",
    "print(words)\n",
    "print(\"\\n\\nTokenized and lemmatized document: \")\n",
    "print(preprocessing(doc_sample))"
   ]
  },
  {
   "cell_type": "markdown",
   "metadata": {},
   "source": [
    "Let's now preprocess all the news headlines we have. To do that, we iterate over the list of documents in our training sample"
   ]
  },
  {
   "cell_type": "code",
   "execution_count": 12,
   "metadata": {},
   "outputs": [],
   "source": [
    "docs = []\n",
    "\n",
    "for doc in newsgroups_train.data:\n",
    "    docs.append(preprocessing(doc))"
   ]
  },
  {
   "cell_type": "code",
   "execution_count": 13,
   "metadata": {},
   "outputs": [
    {
     "name": "stdout",
     "output_type": "stream",
     "text": [
      "[['lerxst', 'thing', 'subject', 'nntp', 'post', 'host', 'organ', 'univers', 'maryland', 'colleg', 'park', 'line', 'wonder', 'enlighten', 'door', 'sport', 'look', 'late', 'earli', 'call', 'bricklin', 'door', 'small', 'addit', 'bumper', 'separ', 'rest', 'bodi', 'know', 'tellm', 'model', 'engin', 'spec', 'year', 'product', 'histori', 'info', 'funki', 'look', 'mail', 'thank', 'bring', 'neighborhood', 'lerxst'], ['guykuo', 'carson', 'washington', 'subject', 'clock', 'poll', 'final', 'summari', 'final', 'clock', 'report', 'keyword', 'acceler', 'clock', 'upgrad', 'articl', 'shelley', 'qvfo', 'innc', 'organ', 'univers', 'washington', 'line', 'nntp', 'post', 'host', 'carson', 'washington', 'fair', 'number', 'brave', 'soul', 'upgrad', 'clock', 'oscil', 'share', 'experi', 'poll', 'send', 'brief', 'messag', 'detail', 'experi', 'procedur', 'speed', 'attain', 'rat', 'speed', 'card', 'adapt', 'heat', 'sink', 'hour', 'usag', 'floppi', 'disk', 'function', 'floppi', 'especi', 'request', 'summar', 'day', 'network', 'knowledg', 'base', 'clock', 'upgrad', 'haven', 'answer', 'poll', 'thank', 'guykuo', 'washington']]\n"
     ]
    }
   ],
   "source": [
    "'''\n",
    "Preview 'docs' to see what all words are being captured\n",
    "'''\n",
    "print(docs[:2])"
   ]
  },
  {
   "cell_type": "markdown",
   "metadata": {},
   "source": [
    "## Step 3: Bag of words on the dataset"
   ]
  },
  {
   "cell_type": "code",
   "execution_count": 14,
   "metadata": {},
   "outputs": [],
   "source": [
    "'''\n",
    "capturing all the different words present in 'docs'\n",
    "'''\n",
    "all_word_corpus = []\n",
    "for doc in docs:\n",
    "    all_word_corpus += doc"
   ]
  },
  {
   "cell_type": "markdown",
   "metadata": {},
   "source": [
    "** Length of docs vs. Various Percentiles **\n",
    "\n",
    "Filter out docs that have\n",
    "\n",
    "* less than a certain size (absolute number) or\n",
    "* more than a certain size (fraction of total corpus size, not absolute number)."
   ]
  },
  {
   "cell_type": "code",
   "execution_count": 15,
   "metadata": {},
   "outputs": [],
   "source": [
    "doc_lengths = pd.Series([len(sent) for sent in docs])"
   ]
  },
  {
   "cell_type": "code",
   "execution_count": 16,
   "metadata": {},
   "outputs": [
    {
     "data": {
      "text/plain": [
       "count    11314.000000\n",
       "mean       126.780272\n",
       "std        234.656018\n",
       "min          9.000000\n",
       "0%           9.000000\n",
       "10%         37.000000\n",
       "20%         48.000000\n",
       "30%         58.000000\n",
       "40%         69.000000\n",
       "50%         81.000000\n",
       "60%         94.000000\n",
       "70%        114.000000\n",
       "80%        144.000000\n",
       "90%        213.000000\n",
       "100%      5494.000000\n",
       "max       5494.000000\n",
       "dtype: float64"
      ]
     },
     "execution_count": 16,
     "metadata": {},
     "output_type": "execute_result"
    }
   ],
   "source": [
    "doc_lengths.describe(percentiles=[x/10 for x in range(11)])"
   ]
  },
  {
   "cell_type": "code",
   "execution_count": 17,
   "metadata": {},
   "outputs": [
    {
     "data": {
      "text/plain": [
       "count    11314.000000\n",
       "mean       126.780272\n",
       "std        234.656018\n",
       "min          9.000000\n",
       "0%           9.000000\n",
       "1%          20.000000\n",
       "2%          23.000000\n",
       "3%          27.000000\n",
       "4%          28.000000\n",
       "5%          30.000000\n",
       "6%          32.000000\n",
       "7.0%        33.000000\n",
       "8%          34.000000\n",
       "9%          36.000000\n",
       "50%         81.000000\n",
       "max       5494.000000\n",
       "dtype: float64"
      ]
     },
     "execution_count": 17,
     "metadata": {},
     "output_type": "execute_result"
    }
   ],
   "source": [
    "# printing 0% to 10% percentiles\n",
    "doc_lengths.describe(percentiles=[x/100 for x in range(0,10)])"
   ]
  },
  {
   "cell_type": "code",
   "execution_count": 18,
   "metadata": {},
   "outputs": [
    {
     "data": {
      "text/plain": [
       "count    11314.000000\n",
       "mean       126.780272\n",
       "std        234.656018\n",
       "min          9.000000\n",
       "50%         81.000000\n",
       "90%        213.000000\n",
       "91%        224.000000\n",
       "92%        241.000000\n",
       "93%        262.090000\n",
       "94%        288.000000\n",
       "95%        319.000000\n",
       "96%        367.000000\n",
       "97%        426.610000\n",
       "98%        558.220000\n",
       "99%        885.000000\n",
       "max       5494.000000\n",
       "dtype: float64"
      ]
     },
     "execution_count": 18,
     "metadata": {},
     "output_type": "execute_result"
    }
   ],
   "source": [
    "# printing 90% to 100% percentiles\n",
    "doc_lengths.describe(percentiles=[x/100 for x in range(90,100)])"
   ]
  },
  {
   "cell_type": "code",
   "execution_count": 19,
   "metadata": {},
   "outputs": [],
   "source": [
    "# chosing upper_bound = 300 and lower_bound = 30\n",
    "chosen_docs = []\n",
    "for doc in docs:\n",
    "    if len(doc) > 30 and len(doc) < 300:\n",
    "        chosen_docs.append(doc)"
   ]
  },
  {
   "cell_type": "code",
   "execution_count": 20,
   "metadata": {
    "scrolled": true
   },
   "outputs": [
    {
     "name": "stdout",
     "output_type": "stream",
     "text": [
      "11314 10063\n"
     ]
    }
   ],
   "source": [
    "print(len(docs), len(chosen_docs))"
   ]
  },
  {
   "cell_type": "code",
   "execution_count": null,
   "metadata": {},
   "outputs": [],
   "source": [
    "docs = chosen_docs"
   ]
  },
  {
   "cell_type": "code",
   "execution_count": 38,
   "metadata": {},
   "outputs": [],
   "source": [
    "'''\n",
    "capturing all the different words present in 'docs'\n",
    "'''\n",
    "all_word_corpus = []\n",
    "for doc in docs:\n",
    "    all_word_corpus += doc"
   ]
  },
  {
   "cell_type": "code",
   "execution_count": 58,
   "metadata": {},
   "outputs": [],
   "source": [
    "word_frequency_dict = Counter(all_word_corpus)"
   ]
  },
  {
   "cell_type": "markdown",
   "metadata": {},
   "source": [
    "## Step 4: Creating Corpus Before LDA ##\n",
    "\n",
    "Some of the initialisations necessary for LDA are:\n",
    "* **id2word** is a mapping from word ids (integers) to words (strings). It is used to determine the vocabulary size, as well as for debugging and topic printing.\n",
    "* **word2id** is a mapping from words (strings) to word ids (integers). It is used to determine the vocabulary size, as well as for debugging and topic printing.\n",
    "* **vocab** is a list of words (strings). It is used to determine the various words used in the text, as well as for debugging and topic printing."
   ]
  },
  {
   "cell_type": "code",
   "execution_count": 30,
   "metadata": {},
   "outputs": [],
   "source": [
    "word2id = {}\n",
    "id2word = {}\n",
    "vocab = []\n",
    "currentWordId = 0"
   ]
  },
  {
   "cell_type": "code",
   "execution_count": 31,
   "metadata": {},
   "outputs": [],
   "source": [
    "from collections import Counter\n",
    "\n",
    "for word, count in Counter(all_word_corpus).most_common():\n",
    "    word2id[word] = currentWordId\n",
    "    id2word[currentWordId] = word\n",
    "    currentWordId += 1\n",
    "    vocab.append(word)"
   ]
  },
  {
   "cell_type": "code",
   "execution_count": 32,
   "metadata": {
    "scrolled": false
   },
   "outputs": [
    {
     "data": {
      "text/plain": [
       "(10063, 42185, 42185)"
      ]
     },
     "execution_count": 32,
     "metadata": {},
     "output_type": "execute_result"
    }
   ],
   "source": [
    "len(docs), len(word2id), len(id2word)"
   ]
  },
  {
   "cell_type": "code",
   "execution_count": 40,
   "metadata": {},
   "outputs": [],
   "source": [
    "final_docs = []\n",
    "\n",
    "for doc in docs:\n",
    "    currentDoc = []\n",
    "    for word in doc: \n",
    "        if word in word2id:\n",
    "            currentDoc.append(word2id[word])\n",
    "    final_docs.append(currentDoc)"
   ]
  },
  {
   "cell_type": "code",
   "execution_count": 41,
   "metadata": {},
   "outputs": [],
   "source": [
    "docs = final_docs"
   ]
  },
  {
   "cell_type": "markdown",
   "metadata": {},
   "source": [
    "## Step 5: Running LDA using Bag of Words ##\n",
    "\n",
    "We are going for 10 topics in the document corpus.\n",
    "\n",
    "Only parameters we will be tweaking are:\n",
    "\n",
    "* **num_topics** is the number of requested latent topics to be extracted from the training corpus."
   ]
  },
  {
   "cell_type": "code",
   "execution_count": 45,
   "metadata": {},
   "outputs": [],
   "source": [
    "X = np.zeros((len(docs), len(word2id)),dtype=int)"
   ]
  },
  {
   "cell_type": "code",
   "execution_count": 46,
   "metadata": {},
   "outputs": [
    {
     "data": {
      "text/plain": [
       "(10063, 42185)"
      ]
     },
     "execution_count": 46,
     "metadata": {},
     "output_type": "execute_result"
    }
   ],
   "source": [
    "X.shape"
   ]
  },
  {
   "cell_type": "code",
   "execution_count": 47,
   "metadata": {},
   "outputs": [],
   "source": [
    "for idx, doc in enumerate(docs):\n",
    "    for idy in doc:\n",
    "        X[idx,idy] += 1"
   ]
  },
  {
   "cell_type": "markdown",
   "metadata": {},
   "source": [
    "### Case 1 : Regular LDA ###"
   ]
  },
  {
   "cell_type": "code",
   "execution_count": 53,
   "metadata": {},
   "outputs": [],
   "source": [
    "# pip install guidedlda\n",
    "from guidedlda import GuidedLDA as lda"
   ]
  },
  {
   "cell_type": "code",
   "execution_count": 119,
   "metadata": {
    "scrolled": false
   },
   "outputs": [
    {
     "name": "stderr",
     "output_type": "stream",
     "text": [
      "INFO:guidedlda:n_documents: 10063\n",
      "INFO:guidedlda:vocab_size: 42185\n",
      "INFO:guidedlda:n_words: 959742\n",
      "INFO:guidedlda:n_topics: 8\n",
      "INFO:guidedlda:n_iter: 1000\n",
      "INFO:guidedlda:<0> log likelihood: -10866709\n",
      "INFO:guidedlda:<50> log likelihood: -8360201\n",
      "INFO:guidedlda:<100> log likelihood: -8252964\n",
      "INFO:guidedlda:<150> log likelihood: -8201943\n",
      "INFO:guidedlda:<200> log likelihood: -8172805\n",
      "INFO:guidedlda:<250> log likelihood: -8144340\n",
      "INFO:guidedlda:<300> log likelihood: -8125297\n",
      "INFO:guidedlda:<350> log likelihood: -8113552\n",
      "INFO:guidedlda:<400> log likelihood: -8106531\n",
      "INFO:guidedlda:<450> log likelihood: -8101962\n",
      "INFO:guidedlda:<500> log likelihood: -8098727\n",
      "INFO:guidedlda:<550> log likelihood: -8095234\n",
      "INFO:guidedlda:<600> log likelihood: -8092530\n",
      "INFO:guidedlda:<650> log likelihood: -8090496\n",
      "INFO:guidedlda:<700> log likelihood: -8088842\n",
      "INFO:guidedlda:<750> log likelihood: -8088769\n",
      "INFO:guidedlda:<800> log likelihood: -8088353\n",
      "INFO:guidedlda:<850> log likelihood: -8089444\n",
      "INFO:guidedlda:<900> log likelihood: -8090124\n",
      "INFO:guidedlda:<950> log likelihood: -8088533\n",
      "INFO:guidedlda:<999> log likelihood: -8087422\n"
     ]
    },
    {
     "name": "stdout",
     "output_type": "stream",
     "text": [
      "/n\n",
      "Topic 0 : write, christian, subject, line, peopl, organ, articl, know, think, believ, say, jesus, univers, israel, like, come, isra, post, time, jew, question, bibl, world, church, want\n",
      "/n\n",
      "Topic 1 : line, organ, subject, write, articl, post, space, nasa, govern, chip, encrypt, like, clipper, know, nntp, host, peopl, access, secur, state, think, year, work, distribut, univers\n",
      "/n\n",
      "Topic 2 : subject, line, organ, write, articl, pitt, know, bank, post, food, scienc, gordon, univers, think, like, repli, doctor, caus, time, medic, host, diseas, effect, problem, work\n",
      "/n\n",
      "Topic 3 : line, window, subject, organ, post, write, file, host, nntp, program, univers, know, thank, graphic, help, like, problem, need, articl, look, display, mail, repli, applic, work\n",
      "/n\n",
      "Topic 4 : line, subject, organ, drive, post, card, write, window, univers, problem, host, nntp, know, work, articl, disk, scsi, like, thank, driver, file, need, mail, softwar, appl\n",
      "/n\n",
      "Topic 5 : write, peopl, subject, line, organ, articl, think, post, right, like, say, know, nntp, univers, thing, moral, host, mean, time, state, believ, go, good, point, person\n",
      "/n\n",
      "Topic 6 : game, line, organ, team, subject, write, year, player, play, articl, univers, post, think, host, nntp, like, time, hockey, good, season, basebal, know, score, go, leagu\n",
      "/n\n",
      "Topic 7 : line, subject, organ, write, articl, post, like, host, nntp, univers, bike, look, good, time, think, know, distribut, work, drive, engin, go, need, thing, want, power\n"
     ]
    }
   ],
   "source": [
    "model = lda(n_topics= 10, n_iter=1000, random_state=1, refresh=50)\n",
    "model.fit(X)\n",
    "\n",
    "topic_word = model.topic_word_\n",
    "n_top_words = 25\n",
    "for i, topic_dist in enumerate(topic_word):\n",
    "    topic_words = np.array(vocab)[np.argsort(topic_dist)][:-(n_top_words + 1):-1]\n",
    "    print(\"\\n\")\n",
    "    print('Topic {} : {}'.format(i, ', '.join(topic_words)))"
   ]
  },
  {
   "cell_type": "code",
   "execution_count": 112,
   "metadata": {},
   "outputs": [],
   "source": [
    "top_words = list(reversed(model.word_topic_.T[1].argsort()))"
   ]
  },
  {
   "cell_type": "code",
   "execution_count": 113,
   "metadata": {},
   "outputs": [
    {
     "name": "stdout",
     "output_type": "stream",
     "text": [
      "escrow 283\n",
      "cramer 217\n",
      "alaska 212\n",
      "optilink 205\n",
      "crypto 197\n",
      "wiretap 194\n",
      "amanda 113\n",
      "gtoal 110\n",
      "nist 109\n",
      "higgin 106\n",
      "nsmca 93\n",
      "baalk 93\n",
      "cryptographi 92\n",
      "spacecraft 85\n",
      "zoolog 82\n",
      "sternlight 76\n",
      "mccall 76\n",
      "qualcomm 75\n",
      "steveh 72\n",
      "ncsl 70\n",
      "decrypt 69\n",
      "pyron 67\n",
      "den 64\n",
      "hendrick 61\n",
      "consent 61\n",
      "rwing 59\n",
      "dtmedin 58\n",
      "catbyt 58\n",
      "shearson 57\n",
      "strnlght 57\n",
      "nrhj 55\n",
      "toal 55\n",
      "crypt 51\n",
      "skndiv 51\n",
      "mksol 51\n",
      "proton 51\n",
      "shafer 49\n",
      "fnalf 49\n",
      "centaur 49\n",
      "observatori 48\n",
      "wwiz 46\n",
      "tempest 45\n",
      "utzoo 45\n",
      "pmetzger 44\n",
      "cipher 43\n",
      "sysmgr 43\n",
      "aerospac 42\n",
      "encrypt 641\n",
      "billboard 40\n",
      "ncratl 40\n",
      "templeton 39\n",
      "csrc 37\n",
      "dorothi 37\n",
      "kadi 37\n",
      "petaluma 36\n",
      "gehrel 36\n",
      "fairbank 36\n",
      "tuinstra 35\n",
      "desi 35\n",
      "dillon 34\n",
      "metzger 34\n",
      "gizw 34\n",
      "dietz 34\n",
      "ipser 34\n",
      "bellovin 33\n",
      "ncsc 33\n",
      "topaz 33\n",
      "nicho 33\n",
      "myrto 33\n",
      "borden 32\n",
      "mancus 32\n",
      "theporch 32\n",
      "medin 31\n",
      "caronni 31\n",
      "scharfi 31\n",
      "bhjn 31\n",
      "mizzou 31\n",
      "ssto 31\n",
      "cac 31\n",
      "pmfq 30\n",
      "amolitor 30\n",
      "rscharfi 30\n",
      "enzo 30\n",
      "regim 29\n",
      "hennessi 29\n",
      "cryptograph 29\n",
      "pork 28\n",
      "geod 28\n",
      "msfc 28\n",
      "jarthur 27\n",
      "tcmay 27\n",
      "cryptosystem 27\n",
      "fraer 27\n",
      "snark 27\n",
      "sherzer 27\n",
      "lick 26\n",
      "eavesdrop 26\n",
      "strnlghtc 26\n",
      "hellman 25\n",
      "rdippold 25\n",
      "mbeckman 25\n",
      "kinsey 24\n",
      "pnei 24\n",
      "keyseach 24\n",
      "qualcom 24\n",
      "taxpay 24\n",
      "karn 24\n",
      "mwilson 23\n",
      "nriz 23\n",
      "ulyss 23\n",
      "mykotronx 23\n",
      "welfar 22\n",
      "laissez 22\n",
      "moonbas 22\n",
      "venari 22\n",
      "yamauchi 21\n",
      "leas 21\n",
      "ebrandt 21\n",
      "steinn 21\n",
      "sigurdsson 21\n",
      "expn 21\n",
      "algorythm 20\n",
      "sweetpea 20\n",
      "nambla 20\n",
      "ronzon 20\n",
      "nickh 20\n",
      "celp 20\n",
      "kjenk 20\n",
      "clementin 20\n",
      "lehman 19\n",
      "stimulus 19\n",
      "rocketri 19\n",
      "dockmast 19\n",
      "incrimin 19\n",
      "shirriff 19\n",
      "pica 19\n",
      "eder 19\n",
      "deputi 19\n",
      "espionag 18\n",
      "burster 18\n",
      "disclos 18\n",
      "curtin 18\n",
      "pitzer 18\n",
      "dfrf 18\n",
      "prado 18\n",
      "tbxn 18\n",
      "wwhj 18\n",
      "coffman 18\n",
      "safeguard 18\n",
      "mtholyok 18\n",
      "plutonium 18\n",
      "unauthor 18\n",
      "philc 17\n",
      "dani 17\n",
      "keithley 17\n",
      "rwtms 17\n",
      "secreci 17\n",
      "bxom 17\n",
      "germano 17\n",
      "munizb 17\n",
      "booster 17\n",
      "herndon 17\n",
      "luna 17\n",
      "uscrpac 16\n",
      "kelsey 16\n",
      "colnet 16\n",
      "jmcocker 16\n",
      "unbreak 16\n",
      "kosmo 16\n",
      "nashvill 16\n",
      "permanet 16\n",
      "nrizwt 16\n",
      "brinich 16\n",
      "jebright 15\n",
      "telco 15\n",
      "biberdorf 15\n",
      "plaintext 15\n",
      "kubo 15\n",
      "sdio 15\n",
      "telephoni 15\n",
      "dwight 15\n",
      "ciphertext 15\n",
      "telo 15\n",
      "ebright 15\n",
      "ckinci 14\n",
      "shakala 14\n",
      "holthaus 14\n",
      "rlglend 14\n",
      "warlord 14\n",
      "finney 14\n",
      "kinci 14\n",
      "kuiper 14\n",
      "asteroid 14\n",
      "stake 14\n",
      "uibois 14\n",
      "tcora 14\n",
      "eqtm 14\n",
      "glenden 14\n",
      "mohney 13\n",
      "agora 13\n",
      "mayan 13\n",
      "repo 13\n",
      "diffi 13\n",
      "stampfli 13\n",
      "domino 13\n",
      "jhess 13\n",
      "hofferbert 13\n",
      "hoover 13\n",
      "cambodia 13\n",
      "a_rubin 13\n",
      "kolodni 13\n",
      "nren 13\n",
      "wmbxn 13\n",
      "gator 13\n",
      "pizzabox 13\n",
      "saundrsg 13\n",
      "backer 13\n",
      "schnopia 13\n",
      "liguori 13\n",
      "academia 12\n",
      "astor 12\n",
      "embassi 12\n",
      "cuffel 12\n",
      "brader 12\n",
      "televison 12\n",
      "eachus 12\n",
      "farzin 12\n",
      "radii 12\n",
      "sabretooth 12\n",
      "ellisun 12\n",
      "nelson_p 12\n",
      "galact 12\n",
      "sfsu 12\n",
      "sfsuvax 12\n",
      "spaceflight 12\n",
      "mond 12\n",
      "repositori 12\n",
      "padi 12\n",
      "lewisvill 12\n",
      "instabl 12\n",
      "cadlab 12\n",
      "ellison 12\n",
      "barber 12\n",
      "ptrei 11\n",
      "sunspot 11\n",
      "doorstep 11\n",
      "andersom 11\n",
      "coradeschi 11\n",
      "demograph 11\n",
      "asset 11\n",
      "silverton 11\n",
      "cpsr 11\n",
      "neutron 11\n",
      "vuse 11\n",
      "dennisn 11\n",
      "kbanaian 11\n",
      "itar 11\n",
      "indyvax 11\n",
      "kuwaiti 11\n",
      "foil 11\n",
      "flybi 11\n",
      "sendmail 11\n",
      "summit 11\n",
      "newkirk 11\n",
      "havemann 11\n",
      "jemison 11\n",
      "backdoor 11\n",
      "energia 11\n",
      "goldin 11\n",
      "keyphras 11\n",
      "ghjn 11\n",
      "trei 11\n",
      "gizwt 11\n",
      "bistromath 11\n",
      "plier 11\n",
      "moink 11\n",
      "afit 11\n",
      "krumin 11\n",
      "rsaref 11\n",
      "macinterest 11\n",
      "dippold 11\n",
      "newsserv 11\n",
      "grader 10\n",
      "fide 10\n",
      "csmes 10\n",
      "warrent 10\n",
      "caterpillar 10\n",
      "aweto 10\n",
      "keysearch 10\n",
      "iupui 10\n",
      "goykhman 10\n",
      "niederstrass 10\n",
      "aiaa 10\n",
      "shoemak 10\n",
      "lokkur 10\n",
      "unapprov 10\n",
      "tbxom 10\n",
      "graydon 10\n",
      "liefeld 10\n",
      "batti 10\n"
     ]
    }
   ],
   "source": [
    "for word in top_words[0:300]:\n",
    "    print(vocab[word], word_frequency_dict[vocab[word]])"
   ]
  },
  {
   "cell_type": "code",
   "execution_count": 114,
   "metadata": {
    "scrolled": false
   },
   "outputs": [
    {
     "data": {
      "image/png": "[encoded data removed]",
      "text/plain": [
       "<Figure size 1800x1800 with 8 Axes>"
      ]
     },
     "metadata": {
      "needs_background": "light"
     },
     "output_type": "display_data"
    }
   ],
   "source": [
    "import matplotlib.pyplot as plt\n",
    "%matplotlib inline\n",
    "n_topics = 8\n",
    "\n",
    "f, axs = plt.subplots(n_topics, figsize=(25,25))\n",
    "for topic_id, topic_dist in enumerate(model.word_topic_.T):\n",
    "    topic_score = sorted(topic_dist, reverse=True)\n",
    "    count_score = len(list(filter(lambda val: val > 0.8, topic_score)))\n",
    "    ax = axs[topic_id]\n",
    "    ax.plot(topic_score[0:10000])\n",
    "    ax.set_title(str(count_score) + ' - ' + f'Topic {topic_id}')\n",
    "    ax.legend([str(topic_id)], loc='upper right')\n",
    "#str(len(set(topic_id_to_coverage[topic_id]))))"
   ]
  },
  {
   "cell_type": "code",
   "execution_count": 118,
   "metadata": {},
   "outputs": [
    {
     "data": {
      "image/png": "[encoded data removed]",
      "text/plain": [
       "<Figure size 1080x432 with 1 Axes>"
      ]
     },
     "metadata": {
      "needs_background": "light"
     },
     "output_type": "display_data"
    }
   ],
   "source": [
    "for key, value in word2id.items():\n",
    "    if key =='jesus':\n",
    "        plt.bar([i for i in range(len(model.word_topic_[0]))],model.word_topic_[value])\n",
    "        plt.rcParams[\"figure.figsize\"] = [15,6]\n",
    "        plt.xticks([i for i in range(len(model.word_topic_[0]))],[f'Topic {i}' for i in range(len(model.word_topic_[0]))])\n",
    "        plt.title(key)"
   ]
  },
  {
   "cell_type": "code",
   "execution_count": 117,
   "metadata": {
    "scrolled": false
   },
   "outputs": [
    {
     "data": {
      "image/png": "[encoded data removed]",
      "text/plain": [
       "<Figure size 1080x432 with 1 Axes>"
      ]
     },
     "metadata": {
      "needs_background": "light"
     },
     "output_type": "display_data"
    }
   ],
   "source": [
    "for key, value in word2id.items():\n",
    "    if key =='nasa':\n",
    "        plt.bar([i for i in range(len(model.word_topic_[0]))],model.word_topic_[value])\n",
    "        plt.rcParams[\"figure.figsize\"] = [15,6]\n",
    "        plt.xticks([i for i in range(len(model.word_topic_[0]))],[f'Topic {i}' for i in range(len(model.word_topic_[0]))])\n",
    "        plt.title(key)"
   ]
  },
  {
   "cell_type": "code",
   "execution_count": 116,
   "metadata": {},
   "outputs": [
    {
     "data": {
      "image/png": "[encoded data removed]",
      "text/plain": [
       "<Figure size 1080x432 with 1 Axes>"
      ]
     },
     "metadata": {
      "needs_background": "light"
     },
     "output_type": "display_data"
    }
   ],
   "source": [
    "for key, value in word2id.items():\n",
    "    if key =='food':\n",
    "        plt.bar([i for i in range(len(model.word_topic_[0]))],model.word_topic_[value])\n",
    "        plt.rcParams[\"figure.figsize\"] = [15,6]\n",
    "        plt.xticks([i for i in range(len(model.word_topic_[0]))],[f'Topic {i}' for i in range(len(model.word_topic_[0]))])\n",
    "        plt.title(key)"
   ]
  },
  {
   "cell_type": "markdown",
   "metadata": {},
   "source": [
    "### Classification of the topics ###\n",
    "\n",
    "Using the words in each topic and their corresponding weights, what categories were you able to infer?\n",
    "\n",
    "* 0: Graphics Cards\n",
    "* 1: Religion\n",
    "* 2: Space\n",
    "* 3: Politics\n",
    "* 4: Gun Violence\n",
    "* 5: Technology\n",
    "* 6: Sports\n",
    "* 7: Encryption "
   ]
  },
  {
   "cell_type": "markdown",
   "metadata": {},
   "source": [
    "### Case 2 : Guided LDA ###"
   ]
  },
  {
   "cell_type": "code",
   "execution_count": 124,
   "metadata": {},
   "outputs": [],
   "source": [
    "seed_dict = {'Graphics Cards' : 0, 'Space' : 1, 'Religion' : 2 , 'Politics' : 3, 'Gun Violence' : 4,\n",
    "             'Technology' : 5, 'Sports' : 6, 'Encryption' : 7 }"
   ]
  },
  {
   "cell_type": "code",
   "execution_count": 125,
   "metadata": {},
   "outputs": [],
   "source": [
    "seed_topics = {}"
   ]
  },
  {
   "cell_type": "code",
   "execution_count": 126,
   "metadata": {},
   "outputs": [],
   "source": [
    "# Topic 0: Possibly Graphics Cards\n",
    "seed_topics.update({\n",
    "    word2id[\"drive\"] : seed_dict[\"Graphics Cards\"], word2id[\"sale\"] : seed_dict[\"Graphics Cards\"], \n",
    "    word2id[\"driver\"] : seed_dict[\"Graphics Cards\"], word2id[\"wire\"] : seed_dict[\"Graphics Cards\"], \n",
    "    word2id[\"card\"] : seed_dict[\"Graphics Cards\"], word2id[\"graphic\"] : seed_dict[\"Graphics Cards\"], \n",
    "    word2id[\"price\"] : seed_dict[\"Graphics Cards\"], word2id[\"appl\"] : seed_dict[\"Graphics Cards\"],\n",
    "    word2id[\"softwar\"] : seed_dict[\"Graphics Cards\"], word2id[\"monitor\"] : seed_dict[\"Graphics Cards\"]\n",
    "})"
   ]
  },
  {
   "cell_type": "code",
   "execution_count": 127,
   "metadata": {},
   "outputs": [],
   "source": [
    "# Topic 2: Possibly Space\n",
    "seed_topics.update({\n",
    "    word2id[\"space\"] : seed_dict[\"Space\"], word2id[\"nasa\"] : seed_dict[\"Space\"], \n",
    "    word2id[\"drive\"] : seed_dict[\"Space\"], word2id[\"scsi\"] : seed_dict[\"Space\"], \n",
    "    word2id[\"orbit\"] : seed_dict[\"Space\"], word2id[\"launch\"] : seed_dict[\"Space\"],\n",
    "    word2id[\"data\"] : seed_dict[\"Space\"], word2id[\"control\"] : seed_dict[\"Space\"], \n",
    "    word2id[\"earth\"] : seed_dict[\"Space\"],word2id[\"moon\"] : seed_dict[\"Space\"]\n",
    "})"
   ]
  },
  {
   "cell_type": "code",
   "execution_count": 128,
   "metadata": {},
   "outputs": [],
   "source": [
    "# Topic 6: Possibly Sports\n",
    "seed_topics.update({\n",
    "    word2id[\"game\"] : seed_dict[\"Sports\"], word2id[\"team\"] : seed_dict[\"Sports\"], \n",
    "    word2id[\"play\"] : seed_dict[\"Sports\"], word2id[\"player\"] : seed_dict[\"Sports\"], \n",
    "    word2id[\"hockey\"] : seed_dict[\"Sports\"], word2id[\"season\"] : seed_dict[\"Sports\"], \n",
    "    word2id[\"pitt\"] : seed_dict[\"Sports\"], word2id[\"score\"] : seed_dict[\"Sports\"], \n",
    "    word2id[\"leagu\"] : seed_dict[\"Sports\"], word2id[\"pittsburgh\"] : seed_dict[\"Sports\"]\n",
    "})"
   ]
  },
  {
   "cell_type": "code",
   "execution_count": 129,
   "metadata": {},
   "outputs": [],
   "source": [
    "# Topic 4: Possibly Politics\n",
    "seed_topics.update({\n",
    "    word2id[\"armenian\"] : seed_dict[\"Politics\"], word2id[\"public\"] : seed_dict[\"Politics\"], \n",
    "    word2id[\"govern\"] : seed_dict[\"Politics\"], word2id[\"turkish\"] : seed_dict[\"Politics\"], \n",
    "    word2id[\"columbia\"] : seed_dict[\"Politics\"], word2id[\"nation\"] : seed_dict[\"Politics\"], \n",
    "    word2id[\"presid\"] : seed_dict[\"Politics\"], word2id[\"turk\"] : seed_dict[\"Politics\"], \n",
    "    word2id[\"american\"] : seed_dict[\"Politics\"], word2id[\"group\"] : seed_dict[\"Politics\"]\n",
    "})"
   ]
  },
  {
   "cell_type": "code",
   "execution_count": 130,
   "metadata": {},
   "outputs": [],
   "source": [
    "# Topic 5: Possibly Gun Violence\n",
    "seed_topics.update({\n",
    "    word2id[\"kill\"] : seed_dict[\"Gun Violence\"], word2id[\"bike\"] : seed_dict[\"Gun Violence\"], \n",
    "    word2id[\"live\"] : seed_dict[\"Gun Violence\"], word2id[\"leav\"] : seed_dict[\"Gun Violence\"], \n",
    "    word2id[\"weapon\"] : seed_dict[\"Gun Violence\"], word2id[\"happen\"] : seed_dict[\"Gun Violence\"], \n",
    "    word2id[\"gun\"] : seed_dict[\"Gun Violence\"], word2id[\"crime\"] : seed_dict[\"Gun Violence\"],\n",
    "    word2id[\"car\"] : seed_dict[\"Gun Violence\"], word2id[\"hand\"] : seed_dict[\"Gun Violence\"]\n",
    "})"
   ]
  },
  {
   "cell_type": "code",
   "execution_count": 132,
   "metadata": {},
   "outputs": [
    {
     "name": "stderr",
     "output_type": "stream",
     "text": [
      "INFO:guidedlda:n_documents: 10063\n",
      "INFO:guidedlda:vocab_size: 42185\n",
      "INFO:guidedlda:n_words: 959742\n",
      "INFO:guidedlda:n_topics: 8\n",
      "INFO:guidedlda:n_iter: 1000\n",
      "INFO:guidedlda:<0> log likelihood: -10857649\n",
      "INFO:guidedlda:<50> log likelihood: -8276593\n",
      "INFO:guidedlda:<100> log likelihood: -8185375\n",
      "INFO:guidedlda:<150> log likelihood: -8152172\n",
      "INFO:guidedlda:<200> log likelihood: -8132887\n",
      "INFO:guidedlda:<250> log likelihood: -8124676\n",
      "INFO:guidedlda:<300> log likelihood: -8117823\n",
      "INFO:guidedlda:<350> log likelihood: -8110797\n",
      "INFO:guidedlda:<400> log likelihood: -8106688\n",
      "INFO:guidedlda:<450> log likelihood: -8103065\n",
      "INFO:guidedlda:<500> log likelihood: -8100560\n",
      "INFO:guidedlda:<550> log likelihood: -8098958\n",
      "INFO:guidedlda:<600> log likelihood: -8095595\n",
      "INFO:guidedlda:<650> log likelihood: -8095143\n",
      "INFO:guidedlda:<700> log likelihood: -8092745\n",
      "INFO:guidedlda:<750> log likelihood: -8090568\n",
      "INFO:guidedlda:<800> log likelihood: -8088082\n",
      "INFO:guidedlda:<850> log likelihood: -8087703\n",
      "INFO:guidedlda:<900> log likelihood: -8085998\n",
      "INFO:guidedlda:<950> log likelihood: -8086381\n",
      "INFO:guidedlda:<999> log likelihood: -8085278\n"
     ]
    },
    {
     "name": "stdout",
     "output_type": "stream",
     "text": [
      "\n",
      "\n",
      "Topic 0 : line, subject, organ, drive, post, univers, card, write, host, nntp, work, problem, know, articl, like, need, thank, scsi, disk, mail, driver, control, want, window, distribut\n",
      "\n",
      "\n",
      "Topic 1 : write, line, subject, organ, articl, encrypt, chip, post, clipper, space, like, peopl, know, govern, host, nasa, think, access, nntp, secur, work, netcom, distribut, need, year\n",
      "\n",
      "\n",
      "Topic 2 : window, line, subject, organ, file, write, post, host, program, nntp, know, problem, thank, like, univers, articl, graphic, help, need, look, work, repli, display, mail, imag\n",
      "\n",
      "\n",
      "Topic 3 : write, subject, articl, peopl, organ, line, govern, israel, state, right, isra, post, think, armenian, say, jew, univers, kill, arab, american, know, world, like, nation, case\n",
      "\n",
      "\n",
      "Topic 4 : line, write, subject, organ, articl, like, post, think, host, nntp, know, bike, good, time, univers, go, peopl, look, thing, distribut, right, state, say, drive, want\n",
      "\n",
      "\n",
      "Topic 5 : write, subject, christian, line, peopl, organ, think, know, believ, articl, say, post, jesus, like, univers, moral, mean, come, thing, time, exist, bibl, question, word, point\n",
      "\n",
      "\n",
      "Topic 6 : game, line, team, organ, subject, write, year, player, articl, play, univers, post, think, like, nntp, host, hockey, time, good, season, basebal, know, score, go, leagu\n",
      "\n",
      "\n",
      "Topic 7 : organ, line, subject, articl, write, post, like, univers, host, know, nntp, repli, pitt, bank, time, food, scienc, nasa, think, gordon, research, work, help, distribut, year\n"
     ]
    }
   ],
   "source": [
    "model = lda(n_topics= 8, n_iter=1000, random_state=1, refresh=50)\n",
    "model.fit(X, seed_topics = seed_topics, seed_confidence = 0.3)\n",
    "topic_word = model.topic_word_\n",
    "n_top_words = 25\n",
    "for i, topic_dist in enumerate(topic_word):\n",
    "    topic_words = np.array(vocab)[np.argsort(topic_dist)][:-(n_top_words + 1):-1]\n",
    "    print('\\n')\n",
    "    print('Topic {} : {}'.format(i, ', '.join(topic_words)))"
   ]
  },
  {
   "cell_type": "markdown",
   "metadata": {},
   "source": [
    "## Step 6: Testing model on unseen document ##"
   ]
  },
  {
   "cell_type": "code",
   "execution_count": 134,
   "metadata": {},
   "outputs": [
    {
     "name": "stdout",
     "output_type": "stream",
     "text": [
      "Subject: help\n",
      "From: C..Doelle@p26.f3333.n106.z1.fidonet.org (C. Doelle)\n",
      "Lines: 13\n",
      "\n",
      "Hello All!\n",
      "\n",
      "    It is my understanding that all True-Type fonts in Windows are loaded in\n",
      "prior to starting Windows - this makes getting into Windows quite slow if you\n",
      "have hundreds of them as I do.  First off, am I correct in this thinking -\n",
      "secondly, if that is the case - can you get Windows to ignore them on boot and\n",
      "maybe make something like a PIF file to load them only when you enter the\n",
      "applications that need fonts?  Any ideas?\n",
      "\n",
      "\n",
      "Chris\n",
      "\n",
      " * Origin: chris.doelle.@f3333.n106.z1.fidonet.org (1:106/3333.26)\n",
      "\n"
     ]
    }
   ],
   "source": [
    "num = 100\n",
    "unseen_document = newsgroups_test.data[num]\n",
    "print(unseen_document)"
   ]
  },
  {
   "cell_type": "code",
   "execution_count": 42,
   "metadata": {},
   "outputs": [
    {
     "name": "stdout",
     "output_type": "stream",
     "text": [
      "Score: 0.6758415102958679\t Topic: 0.021*\"file\" + 0.019*\"window\" + 0.013*\"program\" + 0.008*\"imag\" + 0.007*\"server\"\n",
      "Score: 0.29993242025375366\t Topic: 0.015*\"chip\" + 0.011*\"encrypt\" + 0.008*\"clipper\" + 0.008*\"card\" + 0.006*\"secur\"\n"
     ]
    }
   ],
   "source": [
    "# Data preprocessing step for the unseen document\n",
    "bow_vector = dictionary.doc2bow(preprocess(unseen_document))\n",
    "\n",
    "for index, score in sorted(lda_model[bow_vector], key=lambda tup: -1*tup[1]):\n",
    "    print(\"Score: {}\\t Topic: {}\".format(score, lda_model.print_topic(index, 5)))"
   ]
  },
  {
   "cell_type": "code",
   "execution_count": 43,
   "metadata": {},
   "outputs": [
    {
     "name": "stdout",
     "output_type": "stream",
     "text": [
      "2\n"
     ]
    }
   ],
   "source": [
    "print(newsgroups_test.target[num])"
   ]
  },
  {
   "cell_type": "markdown",
   "metadata": {},
   "source": [
    "The model correctly classifies the unseen document with 'x'% probability to the X category."
   ]
  }
 ],
 "metadata": {
  "kernelspec": {
   "display_name": "guidedLDA",
   "language": "python",
   "name": "topic-modeling-venv"
  },
  "language_info": {
   "codemirror_mode": {
    "name": "ipython",
    "version": 3
   },
   "file_extension": ".py",
   "mimetype": "text/x-python",
   "name": "python",
   "nbconvert_exporter": "python",
   "pygments_lexer": "ipython3",
   "version": "3.6.5"
  }
 },
 "nbformat": 4,
 "nbformat_minor": 1
}
